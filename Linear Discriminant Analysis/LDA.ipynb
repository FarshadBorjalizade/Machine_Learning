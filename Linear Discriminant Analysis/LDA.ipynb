{
 "cells": [
  {
   "cell_type": "code",
   "execution_count": 1,
   "metadata": {},
   "outputs": [],
   "source": [
    "# import library\n",
    "import numpy as np\n",
    "from numpy import array\n",
    "import pandas as pd\n",
    "import csv"
   ]
  },
  {
   "cell_type": "code",
   "execution_count": 2,
   "metadata": {},
   "outputs": [],
   "source": [
    "# accuracy function\n",
    "def accuracy(x,y,row_size):\n",
    "    err=0\n",
    "    for i in range(row_size):\n",
    "        prod=np.dot(w,np.transpose(x[i]))\n",
    "        if(prod>=0 and y[i]==1):\n",
    "            err+=1\n",
    "        elif(prod<0 and y[i]==0):\n",
    "            err+=1\n",
    "    return 1-err/row_size"
   ]
  },
  {
   "cell_type": "code",
   "execution_count": 3,
   "metadata": {},
   "outputs": [
    {
     "name": "stdout",
     "output_type": "stream",
     "text": [
      "Number of train sampels: 4000\n",
      "Number of test sampels: 1000\n",
      "Mean of class y=0 data: [-0.7976736142204597, 0.03324551518409705]\n",
      "Mean of class y=1 data: [0.8059431013471683, -0.011731230715518102]\n",
      "W: [[-0.02178157 -0.00765846]]\n",
      "Accuracy on the train set: 0.91925\n",
      "Accuracy on the test set: 0.9339999999999999\n"
     ]
    }
   ],
   "source": [
    "#Main Function\n",
    "if __name__ == \"__main__\":\n",
    "    headers=['x1','x2','y']\n",
    "    \n",
    "    #Reading Train Data\n",
    "    df_train=pd.read_csv(\"train.csv\", names=headers, skiprows=1)\n",
    "    df_train=df_train.astype({\"y\": int})\n",
    "    row_size_train=df_train.shape[0]\n",
    "    print(\"Number of train sampels:\",row_size_train)\n",
    "    \n",
    "    #Reading Test Data\n",
    "    df_test=pd.read_csv(\"test.csv\", names=headers, skiprows=1)\n",
    "    df_test=df_test.astype({\"y\": int})\n",
    "    row_size_test=df_test.shape[0]\n",
    "    print(\"Number of test sampels:\",row_size_test)\n",
    "\n",
    "    #Preparing the data\n",
    "    x_train=df_train[['x1', 'x2']].to_numpy()\n",
    "    y_train=df_train['y']\n",
    "    x_test=df_test[['x1', 'x2']].to_numpy()\n",
    "    y_test=df_test['y']\n",
    "    x10=[]\n",
    "    x11=[]\n",
    "    x20=[]\n",
    "    x21=[]\n",
    "    for i in range(row_size_train):\n",
    "        if df_train['y'][i]==1:\n",
    "            x11.append(df_train['x1'][i])\n",
    "            x21.append(df_train['x2'][i])\n",
    "        if df_train['y'][i]==0:\n",
    "            x10.append(df_train['x1'][i])\n",
    "            x20.append(df_train['x2'][i])\n",
    "            \n",
    "    # Compute mean of each classes\n",
    "    u1=[sum(x10)/len(x10),sum(x20)/len(x20)]\n",
    "    u2=[sum(x11)/len(x11),sum(x21)/len(x21)]\n",
    "    print('Mean of class y=0 data:',u1)\n",
    "    print('Mean of class y=1 data:', u2)\n",
    "    \n",
    "    #Computing S1 and S2\n",
    "    s1=np.zeros((2,2))\n",
    "    for i in range(len(x10)):\n",
    "        b=np.zeros((1,2))\n",
    "        b[0][0]=x10[0]-u1[0]\n",
    "        b[0][1]=x20[0]-u1[1]\n",
    "        s1+=np.dot(np.transpose(b),b)\n",
    "    s2=np.zeros((2,2))\n",
    "    for i in range(len(x11)):\n",
    "        b=np.zeros((1,2))\n",
    "        b[0][0]=x11[0]-u2[0]\n",
    "        b[0][1]=x21[0]-u2[1]\n",
    "        s2+=np.dot(np.transpose(b),b)\n",
    "    sw=s1+s2\n",
    "    \n",
    "    #Computing the W vector\n",
    "    w=np.dot(np.linalg.inv(sw),[u1[0]-u2[0],u1[1]-u2[1]])\n",
    "    w.shape=(1,2)\n",
    "\n",
    "    print(\"W:\",w)\n",
    "    print(\"Accuracy on the train set:\",accuracy(x_train,y_train,row_size_train))\n",
    "    print(\"Accuracy on the test set:\",accuracy(x_test,y_test,row_size_test))"
   ]
  }
 ],
 "metadata": {
  "kernelspec": {
   "display_name": "Python 3",
   "language": "python",
   "name": "python3"
  },
  "language_info": {
   "codemirror_mode": {
    "name": "ipython",
    "version": 3
   },
   "file_extension": ".py",
   "mimetype": "text/x-python",
   "name": "python",
   "nbconvert_exporter": "python",
   "pygments_lexer": "ipython3",
   "version": "3.7.9"
  }
 },
 "nbformat": 4,
 "nbformat_minor": 4
}
