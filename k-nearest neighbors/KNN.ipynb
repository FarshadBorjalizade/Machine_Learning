{
 "cells": [
  {
   "cell_type": "code",
   "execution_count": 59,
   "metadata": {},
   "outputs": [],
   "source": [
    "# Import library\n",
    "import pandas as pd\n",
    "import numpy as np\n",
    "from sklearn.datasets import fetch_openml\n",
    "import matplotlib.pyplot as plt"
   ]
  },
  {
   "cell_type": "code",
   "execution_count": 60,
   "metadata": {},
   "outputs": [
    {
     "name": "stdout",
     "output_type": "stream",
     "text": [
      "Overall # of samples is 70000\n",
      "Size of the features is: (70000, 784)\n"
     ]
    }
   ],
   "source": [
    "# Read data\n",
    "X, y = fetch_openml('mnist_784', version=1, return_X_y=True)\n",
    "print('Overall # of samples is', y.shape[0])\n",
    "print('Size of the features is:', X.shape)"
   ]
  },
  {
   "cell_type": "code",
   "execution_count": 66,
   "metadata": {},
   "outputs": [
    {
     "data": {
      "text/plain": [
       "(784,)"
      ]
     },
     "execution_count": 66,
     "metadata": {},
     "output_type": "execute_result"
    }
   ],
   "source": [
    "X[1].shape"
   ]
  },
  {
   "cell_type": "code",
   "execution_count": 62,
   "metadata": {},
   "outputs": [
    {
     "data": {
      "text/plain": [
       "array(['5', '0', '4', ..., '4', '5', '6'], dtype=object)"
      ]
     },
     "execution_count": 62,
     "metadata": {},
     "output_type": "execute_result"
    }
   ],
   "source": [
    "y"
   ]
  },
  {
   "cell_type": "code",
   "execution_count": 63,
   "metadata": {},
   "outputs": [
    {
     "data": {
      "image/png": "[encoded data removed]",
      "text/plain": [
       "<Figure size 432x288 with 1 Axes>"
      ]
     },
     "metadata": {
      "needs_background": "light"
     },
     "output_type": "display_data"
    }
   ],
   "source": [
    "# Plot one sample of dataset\n",
    "def show_digit(x_vec, label):\n",
    "    x_mat = x_vec.reshape(28, 28)\n",
    "    plt.imshow(x_mat)\n",
    "    plt.title('Label of this digit is: ' + label)\n",
    "    plt.show()\n",
    "\n",
    "show_digit(X[1], y[1])"
   ]
  },
  {
   "cell_type": "code",
   "execution_count": 5,
   "metadata": {},
   "outputs": [],
   "source": [
    "n_train = 8000\n",
    "n_test = 2000\n",
    "split_loc = 10000 # train and test split at location of 10k\n",
    "\n",
    "X_train, y_train = X[:n_train,:], y[:n_train] # train data [0:8000]\n",
    "X_test, y_test = X[split_loc:split_loc + n_test, :] , y[split_loc:split_loc+n_test] # test data[10k:12k]"
   ]
  },
  {
   "cell_type": "code",
   "execution_count": 6,
   "metadata": {},
   "outputs": [],
   "source": [
    "# converting the above numpy arrays to pandas dataframe\n",
    "df_train = pd.DataFrame(X_train)\n",
    "df_test = pd.DataFrame(X_test)"
   ]
  },
  {
   "cell_type": "code",
   "execution_count": 7,
   "metadata": {},
   "outputs": [],
   "source": [
    "y_train_df = pd.DataFrame(data = y_train, columns = ['class'])\n",
    "y_test_df = pd.DataFrame(data = y_test, columns = ['class'])"
   ]
  },
  {
   "cell_type": "code",
   "execution_count": 64,
   "metadata": {},
   "outputs": [
    {
     "data": {
      "image/png": "[encoded data removed]",
      "text/plain": [
       "<Figure size 432x288 with 1 Axes>"
      ]
     },
     "metadata": {
      "needs_background": "light"
     },
     "output_type": "display_data"
    },
    {
     "data": {
      "image/png": "[encoded data removed]",
      "text/plain": [
       "<Figure size 432x288 with 1 Axes>"
      ]
     },
     "metadata": {
      "needs_background": "light"
     },
     "output_type": "display_data"
    }
   ],
   "source": [
    "# plot the number of sample for each category in Training and Testing\n",
    "\n",
    "y_train_df['class'].value_counts().plot(kind = 'bar', colormap = 'rainbow')\n",
    "plt.xlabel('Class')\n",
    "plt.ylabel('Number of samples for each category')\n",
    "plt.title('Training set')\n",
    "plt.show()\n",
    "\n",
    "y_test_df['class'].value_counts().plot(kind = 'bar', colormap = 'rainbow')\n",
    "plt.xlabel('Class')\n",
    "plt.ylabel('Number of samples for each category')\n",
    "plt.title('Testing set')\n",
    "plt.show()"
   ]
  },
  {
   "cell_type": "markdown",
   "metadata": {},
   "source": [
    "# code for performing knn classification"
   ]
  },
  {
   "cell_type": "code",
   "execution_count": 12,
   "metadata": {},
   "outputs": [],
   "source": [
    "# calculate euclidean distance\n",
    "def dist(x,y):   \n",
    "    return np.sqrt(np.sum((x-y)**2))"
   ]
  },
  {
   "cell_type": "code",
   "execution_count": 13,
   "metadata": {},
   "outputs": [],
   "source": [
    "train_distance_list = [] # a list to store euclidean distance\n",
    "\n",
    "train_ind_counter = [] # a list to store index\n",
    "\n",
    "k_values = [1, 2, 4, 5, 16, 32] # a list with all the K values\n",
    "\n",
    "# creating a list of list for storing the predictions for each value of K\n",
    "train_pred_lists = [[] for _ in range(len(k_values))]"
   ]
  },
  {
   "cell_type": "markdown",
   "metadata": {},
   "source": [
    "### Training the knn model"
   ]
  },
  {
   "cell_type": "code",
   "execution_count": 14,
   "metadata": {},
   "outputs": [],
   "source": [
    "# iterating through the training set\n",
    "for i in range(0,8000):\n",
    "    train_vec_one = df_train.iloc[i]\n",
    "    # iterating through the training set\n",
    "    for j in range(0,8000):\n",
    "        train_vec = df_train.iloc[j]\n",
    "        # calculate euclidean distance by calling function dist\n",
    "        euclidean_dist = dist(train_vec_one,train_vec)\n",
    "        train_distance_list.append(euclidean_dist)\n",
    "        # increment the index\n",
    "        train_ind_counter.append(j)\n",
    "    \n",
    "    # dictionary to store all the results\n",
    "    d = {'index':train_ind_counter, 'distance': train_distance_list}\n",
    "    # convert dictionary to dataframe\n",
    "    df = pd.DataFrame(d, columns = ['index', 'distance'])\n",
    "    # sort in ascending order by euclidean distance\n",
    "    df_sorted = df.sort_values(by = 'distance')\n",
    "\n",
    "    # iterate through each value of K\n",
    "    for K in range(len(k_values)):\n",
    "        index_list = list(df_sorted['index'][:k_values[K]])\n",
    "        distance = list(df_sorted['distance'][:k_values[K]])\n",
    "        res_list = [y_train[i] for i in index_list]\n",
    "        # now get the count of the max class in result list\n",
    "        pred_value = max(res_list,key=res_list.count)\n",
    "        # storing every prediction for K in respective list\n",
    "        train_pred_lists[K].append(pred_value)\n",
    "    \n",
    "    # reinitialize the list\n",
    "    train_ind_counter = []\n",
    "    train_distance_list = []"
   ]
  },
  {
   "cell_type": "code",
   "execution_count": 15,
   "metadata": {},
   "outputs": [],
   "source": [
    "test_distance_list = [] # a list to store euclidean distance\n",
    "\n",
    "test_ind_counter = [] # a list to store index\n",
    "\n",
    "# creating a list of list for storing the predictions for each value of K\n",
    "test_pred_lists = [[] for _ in range(len(k_values))]"
   ]
  },
  {
   "cell_type": "markdown",
   "metadata": {},
   "source": [
    "### testing the knn model"
   ]
  },
  {
   "cell_type": "code",
   "execution_count": 16,
   "metadata": {},
   "outputs": [],
   "source": [
    "# iterating through the test set\n",
    "for i in range(0,2000):\n",
    "    test_vec = df_test.iloc[i]\n",
    "    # iterating through the training set\n",
    "    for j in range(0,8000): \n",
    "        train_vec = df_train.iloc[j]\n",
    "        # calculate euclidean distance\n",
    "        euclidean_dist = dist(test_vec,train_vec)\n",
    "        test_distance_list.append(euclidean_dist)\n",
    "        # increment the index\n",
    "        test_ind_counter.append(j)\n",
    "    \n",
    "    # dictionary to store all the results\n",
    "    d = {'index':test_ind_counter, 'distance': test_distance_list}\n",
    "    # convert dictionary to dataframe\n",
    "    df = pd.DataFrame(d, columns = ['index', 'distance'])\n",
    "    # sort in ascending order by euclidean distance\n",
    "    df_sorted = df.sort_values(by = 'distance')\n",
    "\n",
    "    # iterate through each value of K\n",
    "    for K in range(len(k_values)):\n",
    "        index_list = list(df_sorted['index'][:k_values[K]])\n",
    "        distance = list(df_sorted['distance'][:k_values[K]])\n",
    "        res_list = [train_pred_lists[K][ind] for ind in index_list]\n",
    "        # now get the count of the max class in result list\n",
    "        pred_value = max(res_list,key=res_list.count)\n",
    "        # storing every prediction in respective list\n",
    "        test_pred_lists[K].append(pred_value)\n",
    "        \n",
    "    # reinitialize the list   \n",
    "    test_ind_counter = []\n",
    "    test_distance_list = []"
   ]
  },
  {
   "cell_type": "code",
   "execution_count": 17,
   "metadata": {},
   "outputs": [
    {
     "name": "stdout",
     "output_type": "stream",
     "text": [
      "The train accuracy is 100.0% for K=1\n",
      "The train accuracy is 100.0% for K=2\n",
      "The train accuracy is 97.95% for K=4\n",
      "The train accuracy is 97.1% for K=5\n",
      "The train accuracy is 94.89% for K=16\n",
      "The train accuracy is 93.04% for K=32\n"
     ]
    }
   ],
   "source": [
    "# calculating results for train set\n",
    "train_pred = 0\n",
    "train_pred_result = []\n",
    "for K in range(len(k_values)):\n",
    "    # element wise comparison to find the accuracy\n",
    "    for l1,l2 in zip(train_pred_lists[K], y_train.tolist()):\n",
    "        if l1 == l2:\n",
    "            # increment when there is a match\n",
    "            train_pred += 1\n",
    "    accuracy = train_pred/8000\n",
    "    train_pred_result.append((round(accuracy*100,2)))\n",
    "    print('The train accuracy is '+str(round(accuracy*100,2))+'% for K='+str(k_values[K]))\n",
    "    train_pred = 0"
   ]
  },
  {
   "cell_type": "code",
   "execution_count": 19,
   "metadata": {},
   "outputs": [
    {
     "name": "stdout",
     "output_type": "stream",
     "text": [
      "The test accuracy is 94.55% for K=1\n",
      "The test accuracy is 94.55% for K=2\n",
      "The test accuracy is 94.85% for K=4\n",
      "The test accuracy is 94.45% for K=5\n",
      "The test accuracy is 92.80000000000001% for K=16\n",
      "The test accuracy is 90.60000000000001% for K=32\n"
     ]
    }
   ],
   "source": [
    "#calculating results for test set\n",
    "test_pred = 0\n",
    "test_pred_result = []\n",
    "for K in range(len(k_values)):\n",
    "    for l1,l2 in zip(test_pred_lists[K], y_test.tolist()):\n",
    "        if l1 == l2:\n",
    "            test_pred += 1\n",
    "    accuracy = test_pred/2000\n",
    "    test_pred_result.append((round(accuracy*100,2)))\n",
    "    print('The test accuracy is '+str(accuracy*100)+'% for K='+str(k_values[K]))\n",
    "    test_pred = 0"
   ]
  },
  {
   "cell_type": "code",
   "execution_count": 20,
   "metadata": {},
   "outputs": [
    {
     "data": {
      "text/html": [
       "<div>\n",
       "<style scoped>\n",
       "    .dataframe tbody tr th:only-of-type {\n",
       "        vertical-align: middle;\n",
       "    }\n",
       "\n",
       "    .dataframe tbody tr th {\n",
       "        vertical-align: top;\n",
       "    }\n",
       "\n",
       "    .dataframe thead th {\n",
       "        text-align: right;\n",
       "    }\n",
       "</style>\n",
       "<table border=\"1\" class=\"dataframe\">\n",
       "  <thead>\n",
       "    <tr style=\"text-align: right;\">\n",
       "      <th></th>\n",
       "      <th>K value</th>\n",
       "      <th>train pred</th>\n",
       "      <th>test pred</th>\n",
       "    </tr>\n",
       "  </thead>\n",
       "  <tbody>\n",
       "    <tr>\n",
       "      <th>0</th>\n",
       "      <td>1</td>\n",
       "      <td>100.00</td>\n",
       "      <td>94.55</td>\n",
       "    </tr>\n",
       "    <tr>\n",
       "      <th>1</th>\n",
       "      <td>2</td>\n",
       "      <td>100.00</td>\n",
       "      <td>94.55</td>\n",
       "    </tr>\n",
       "    <tr>\n",
       "      <th>2</th>\n",
       "      <td>4</td>\n",
       "      <td>97.95</td>\n",
       "      <td>94.85</td>\n",
       "    </tr>\n",
       "    <tr>\n",
       "      <th>3</th>\n",
       "      <td>5</td>\n",
       "      <td>97.10</td>\n",
       "      <td>94.45</td>\n",
       "    </tr>\n",
       "    <tr>\n",
       "      <th>4</th>\n",
       "      <td>16</td>\n",
       "      <td>94.89</td>\n",
       "      <td>92.80</td>\n",
       "    </tr>\n",
       "    <tr>\n",
       "      <th>5</th>\n",
       "      <td>32</td>\n",
       "      <td>93.04</td>\n",
       "      <td>90.60</td>\n",
       "    </tr>\n",
       "  </tbody>\n",
       "</table>\n",
       "</div>"
      ],
      "text/plain": [
       "   K value  train pred  test pred\n",
       "0        1      100.00      94.55\n",
       "1        2      100.00      94.55\n",
       "2        4       97.95      94.85\n",
       "3        5       97.10      94.45\n",
       "4       16       94.89      92.80\n",
       "5       32       93.04      90.60"
      ]
     },
     "execution_count": 20,
     "metadata": {},
     "output_type": "execute_result"
    }
   ],
   "source": [
    "# getting all the results for train and test in a dataframe\n",
    "df_result = pd.DataFrame()\n",
    "df_result['K value'] = k_values\n",
    "df_result['train pred'] = train_pred_result\n",
    "df_result['test pred'] = test_pred_result\n",
    "df_result"
   ]
  },
  {
   "cell_type": "markdown",
   "metadata": {},
   "source": [
    "### plot the curve of Training and Testing accuracy with different K values"
   ]
  },
  {
   "cell_type": "code",
   "execution_count": 22,
   "metadata": {},
   "outputs": [
    {
     "data": {
      "image/png": "[encoded data removed]",
      "text/plain": [
       "<Figure size 432x288 with 1 Axes>"
      ]
     },
     "metadata": {
      "needs_background": "light"
     },
     "output_type": "display_data"
    }
   ],
   "source": [
    "plt.plot(df_result['K value'], df_result['train pred'])\n",
    "plt.xlabel('K value')\n",
    "plt.ylabel('Training accuracy (%)')\n",
    "plt.title('Accuracy for train set')\n",
    "plt.show()"
   ]
  },
  {
   "cell_type": "code",
   "execution_count": 23,
   "metadata": {},
   "outputs": [
    {
     "data": {
      "image/png": "[encoded data removed]",
      "text/plain": [
       "<Figure size 432x288 with 1 Axes>"
      ]
     },
     "metadata": {
      "needs_background": "light"
     },
     "output_type": "display_data"
    }
   ],
   "source": [
    "plt.plot(df_result['K value'], df_result['test pred'])\n",
    "plt.xlabel('K value')\n",
    "plt.ylabel('Testing accuracy (%)')\n",
    "plt.title('Accuracy for test set')\n",
    "plt.show()"
   ]
  },
  {
   "cell_type": "code",
   "execution_count": 24,
   "metadata": {},
   "outputs": [
    {
     "data": {
      "image/png": "[encoded data removed]",
      "text/plain": [
       "<Figure size 432x288 with 1 Axes>"
      ]
     },
     "metadata": {
      "needs_background": "light"
     },
     "output_type": "display_data"
    }
   ],
   "source": [
    "plt.plot(df_result['K value'], df_result['train pred'], 'r', label = 'train pred')\n",
    "plt.plot(df_result['K value'], df_result['test pred'], 'g', label = 'test pred')\n",
    "plt.legend(loc='upper right')\n",
    "plt.xlabel('K value')\n",
    "plt.ylabel('Accuracy (%)')\n",
    "plt.title('Accuracy for train and test set')\n",
    "plt.show()"
   ]
  },
  {
   "cell_type": "code",
   "execution_count": null,
   "metadata": {},
   "outputs": [],
   "source": []
  }
 ],
 "metadata": {
  "kernelspec": {
   "display_name": "Python 3",
   "language": "python",
   "name": "python3"
  },
  "language_info": {
   "codemirror_mode": {
    "name": "ipython",
    "version": 3
   },
   "file_extension": ".py",
   "mimetype": "text/x-python",
   "name": "python",
   "nbconvert_exporter": "python",
   "pygments_lexer": "ipython3",
   "version": "3.7.9"
  }
 },
 "nbformat": 4,
 "nbformat_minor": 4
}
